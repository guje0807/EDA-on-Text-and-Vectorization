{
 "cells": [
  {
   "cell_type": "code",
   "execution_count": 1,
   "metadata": {},
   "outputs": [],
   "source": [
    "import nltk as nt\n",
    "import pandas as pd"
   ]
  },
  {
   "cell_type": "code",
   "execution_count": 2,
   "metadata": {},
   "outputs": [],
   "source": [
    "df = pd.read_csv('un-general-debates.csv')"
   ]
  },
  {
   "cell_type": "code",
   "execution_count": 3,
   "metadata": {},
   "outputs": [
    {
     "name": "stdout",
     "output_type": "stream",
     "text": [
      "<class 'pandas.core.frame.DataFrame'>\n",
      "RangeIndex: 7507 entries, 0 to 7506\n",
      "Data columns (total 4 columns):\n",
      " #   Column   Non-Null Count  Dtype \n",
      "---  ------   --------------  ----- \n",
      " 0   session  7507 non-null   int64 \n",
      " 1   year     7507 non-null   int64 \n",
      " 2   country  7507 non-null   object\n",
      " 3   text     7507 non-null   object\n",
      "dtypes: int64(2), object(2)\n",
      "memory usage: 234.7+ KB\n"
     ]
    }
   ],
   "source": [
    "df.info()"
   ]
  },
  {
   "cell_type": "code",
   "execution_count": 4,
   "metadata": {},
   "outputs": [],
   "source": [
    "df['length']=df['text'].str.len()"
   ]
  },
  {
   "cell_type": "code",
   "execution_count": 5,
   "metadata": {},
   "outputs": [
    {
     "data": {
      "text/html": [
       "<div>\n",
       "<style scoped>\n",
       "    .dataframe tbody tr th:only-of-type {\n",
       "        vertical-align: middle;\n",
       "    }\n",
       "\n",
       "    .dataframe tbody tr th {\n",
       "        vertical-align: top;\n",
       "    }\n",
       "\n",
       "    .dataframe thead th {\n",
       "        text-align: right;\n",
       "    }\n",
       "</style>\n",
       "<table border=\"1\" class=\"dataframe\">\n",
       "  <thead>\n",
       "    <tr style=\"text-align: right;\">\n",
       "      <th></th>\n",
       "      <th>session</th>\n",
       "      <th>year</th>\n",
       "      <th>country</th>\n",
       "      <th>text</th>\n",
       "      <th>length</th>\n",
       "    </tr>\n",
       "  </thead>\n",
       "  <tbody>\n",
       "    <tr>\n",
       "      <th>0</th>\n",
       "      <td>44</td>\n",
       "      <td>1989</td>\n",
       "      <td>MDV</td>\n",
       "      <td>﻿It is indeed a pleasure for me and the member...</td>\n",
       "      <td>19023</td>\n",
       "    </tr>\n",
       "    <tr>\n",
       "      <th>1</th>\n",
       "      <td>44</td>\n",
       "      <td>1989</td>\n",
       "      <td>FIN</td>\n",
       "      <td>﻿\\nMay I begin by congratulating you. Sir, on ...</td>\n",
       "      <td>17396</td>\n",
       "    </tr>\n",
       "    <tr>\n",
       "      <th>2</th>\n",
       "      <td>44</td>\n",
       "      <td>1989</td>\n",
       "      <td>NER</td>\n",
       "      <td>﻿\\nMr. President, it is a particular pleasure ...</td>\n",
       "      <td>30780</td>\n",
       "    </tr>\n",
       "    <tr>\n",
       "      <th>3</th>\n",
       "      <td>44</td>\n",
       "      <td>1989</td>\n",
       "      <td>URY</td>\n",
       "      <td>﻿\\nDuring the debate at the fortieth session o...</td>\n",
       "      <td>17249</td>\n",
       "    </tr>\n",
       "    <tr>\n",
       "      <th>4</th>\n",
       "      <td>44</td>\n",
       "      <td>1989</td>\n",
       "      <td>ZWE</td>\n",
       "      <td>﻿I should like at the outset to express my del...</td>\n",
       "      <td>27779</td>\n",
       "    </tr>\n",
       "  </tbody>\n",
       "</table>\n",
       "</div>"
      ],
      "text/plain": [
       "   session  year country                                               text  \\\n",
       "0       44  1989     MDV  ﻿It is indeed a pleasure for me and the member...   \n",
       "1       44  1989     FIN  ﻿\\nMay I begin by congratulating you. Sir, on ...   \n",
       "2       44  1989     NER  ﻿\\nMr. President, it is a particular pleasure ...   \n",
       "3       44  1989     URY  ﻿\\nDuring the debate at the fortieth session o...   \n",
       "4       44  1989     ZWE  ﻿I should like at the outset to express my del...   \n",
       "\n",
       "   length  \n",
       "0   19023  \n",
       "1   17396  \n",
       "2   30780  \n",
       "3   17249  \n",
       "4   27779  "
      ]
     },
     "execution_count": 5,
     "metadata": {},
     "output_type": "execute_result"
    }
   ],
   "source": [
    "df.head()"
   ]
  },
  {
   "cell_type": "code",
   "execution_count": 6,
   "metadata": {},
   "outputs": [
    {
     "data": {
      "text/html": [
       "<div>\n",
       "<style scoped>\n",
       "    .dataframe tbody tr th:only-of-type {\n",
       "        vertical-align: middle;\n",
       "    }\n",
       "\n",
       "    .dataframe tbody tr th {\n",
       "        vertical-align: top;\n",
       "    }\n",
       "\n",
       "    .dataframe thead th {\n",
       "        text-align: right;\n",
       "    }\n",
       "</style>\n",
       "<table border=\"1\" class=\"dataframe\">\n",
       "  <thead>\n",
       "    <tr style=\"text-align: right;\">\n",
       "      <th></th>\n",
       "      <th>count</th>\n",
       "      <th>mean</th>\n",
       "      <th>std</th>\n",
       "      <th>min</th>\n",
       "      <th>25%</th>\n",
       "      <th>50%</th>\n",
       "      <th>75%</th>\n",
       "      <th>max</th>\n",
       "    </tr>\n",
       "  </thead>\n",
       "  <tbody>\n",
       "    <tr>\n",
       "      <th>session</th>\n",
       "      <td>7507.0</td>\n",
       "      <td>49.610763</td>\n",
       "      <td>12.892155</td>\n",
       "      <td>25.0</td>\n",
       "      <td>39.0</td>\n",
       "      <td>51.0</td>\n",
       "      <td>61.0</td>\n",
       "      <td>70.0</td>\n",
       "    </tr>\n",
       "    <tr>\n",
       "      <th>year</th>\n",
       "      <td>7507.0</td>\n",
       "      <td>1994.610763</td>\n",
       "      <td>12.892155</td>\n",
       "      <td>1970.0</td>\n",
       "      <td>1984.0</td>\n",
       "      <td>1996.0</td>\n",
       "      <td>2006.0</td>\n",
       "      <td>2015.0</td>\n",
       "    </tr>\n",
       "    <tr>\n",
       "      <th>length</th>\n",
       "      <td>7507.0</td>\n",
       "      <td>17967.281604</td>\n",
       "      <td>7860.038463</td>\n",
       "      <td>2362.0</td>\n",
       "      <td>12077.0</td>\n",
       "      <td>16424.0</td>\n",
       "      <td>22479.5</td>\n",
       "      <td>72041.0</td>\n",
       "    </tr>\n",
       "  </tbody>\n",
       "</table>\n",
       "</div>"
      ],
      "text/plain": [
       "          count          mean          std     min      25%      50%      75%  \\\n",
       "session  7507.0     49.610763    12.892155    25.0     39.0     51.0     61.0   \n",
       "year     7507.0   1994.610763    12.892155  1970.0   1984.0   1996.0   2006.0   \n",
       "length   7507.0  17967.281604  7860.038463  2362.0  12077.0  16424.0  22479.5   \n",
       "\n",
       "             max  \n",
       "session     70.0  \n",
       "year      2015.0  \n",
       "length   72041.0  "
      ]
     },
     "execution_count": 6,
     "metadata": {},
     "output_type": "execute_result"
    }
   ],
   "source": [
    "df.describe().T"
   ]
  },
  {
   "cell_type": "code",
   "execution_count": 7,
   "metadata": {},
   "outputs": [
    {
     "data": {
      "text/plain": [
       "count     7507\n",
       "unique     199\n",
       "top        ARG\n",
       "freq        46\n",
       "Name: country, dtype: object"
      ]
     },
     "execution_count": 7,
     "metadata": {},
     "output_type": "execute_result"
    }
   ],
   "source": [
    "df['country'].value_counts() \n",
    "df['country'].describe(include='0').T"
   ]
  },
  {
   "cell_type": "code",
   "execution_count": 8,
   "metadata": {},
   "outputs": [
    {
     "data": {
      "text/plain": [
       "session    0\n",
       "year       0\n",
       "country    0\n",
       "text       0\n",
       "length     0\n",
       "dtype: int64"
      ]
     },
     "execution_count": 8,
     "metadata": {},
     "output_type": "execute_result"
    }
   ],
   "source": [
    "df.isnull().sum()"
   ]
  },
  {
   "cell_type": "code",
   "execution_count": 9,
   "metadata": {},
   "outputs": [
    {
     "data": {
      "text/plain": [
       "<matplotlib.axes._subplots.AxesSubplot at 0x175c8e029a0>"
      ]
     },
     "execution_count": 9,
     "metadata": {},
     "output_type": "execute_result"
    },
    {
     "data": {
      "image/png": "[encoded data removed]",
      "text/plain": [
       "<Figure size 432x288 with 1 Axes>"
      ]
     },
     "metadata": {
      "needs_background": "light"
     },
     "output_type": "display_data"
    }
   ],
   "source": [
    "df['length'].plot(kind='box', x='length',y='count')"
   ]
  },
  {
   "cell_type": "code",
   "execution_count": 10,
   "metadata": {},
   "outputs": [
    {
     "data": {
      "text/plain": [
       "<seaborn.axisgrid.FacetGrid at 0x175c82f7a90>"
      ]
     },
     "execution_count": 10,
     "metadata": {},
     "output_type": "execute_result"
    },
    {
     "data": {
      "image/png": "[encoded data removed]",
      "text/plain": [
       "<Figure size 360x360 with 1 Axes>"
      ]
     },
     "metadata": {
      "needs_background": "light"
     },
     "output_type": "display_data"
    },
    {
     "data": {
      "image/png": "[encoded data removed]",
      "text/plain": [
       "<Figure size 360x360 with 1 Axes>"
      ]
     },
     "metadata": {
      "needs_background": "light"
     },
     "output_type": "display_data"
    }
   ],
   "source": [
    "import seaborn as sns\n",
    "\n",
    "where = df['country'].isin(['USA','GBR','IND','RUS'])\n",
    "\n",
    "sns.catplot(data=df[where],x='country',y='length',kind='box')\n",
    "sns.catplot(data=df[where],x='country',y='length',kind='violin')"
   ]
  },
  {
   "cell_type": "code",
   "execution_count": 11,
   "metadata": {},
   "outputs": [
    {
     "data": {
      "text/plain": [
       "<matplotlib.axes._subplots.AxesSubplot at 0x175bd4638e0>"
      ]
     },
     "execution_count": 11,
     "metadata": {},
     "output_type": "execute_result"
    },
    {
     "data": {
      "image/png": "[encoded data removed]",
      "text/plain": [
       "<Figure size 432x288 with 1 Axes>"
      ]
     },
     "metadata": {
      "needs_background": "light"
     },
     "output_type": "display_data"
    }
   ],
   "source": [
    "df.groupby('year').size().plot(kind='line')"
   ]
  },
  {
   "cell_type": "code",
   "execution_count": 12,
   "metadata": {},
   "outputs": [
    {
     "data": {
      "text/plain": [
       "<matplotlib.axes._subplots.AxesSubplot at 0x175d9ee7070>"
      ]
     },
     "execution_count": 12,
     "metadata": {},
     "output_type": "execute_result"
    },
    {
     "data": {
      "image/png": "[encoded data removed]",
      "text/plain": [
       "<Figure size 432x288 with 1 Axes>"
      ]
     },
     "metadata": {
      "needs_background": "light"
     },
     "output_type": "display_data"
    }
   ],
   "source": [
    "df.groupby('year').agg({'length':'mean'}).plot()  #tHIS TELLS THAT AS THE NUMBER OF COUNTRIES INCRESES THE SPEECH LENGHT IS DECREASING"
   ]
  },
  {
   "cell_type": "code",
   "execution_count": 13,
   "metadata": {},
   "outputs": [
    {
     "name": "stdout",
     "output_type": "stream",
     "text": [
      "Counter({'I': 2, 'My': 1, 'Name': 1, 'is': 1, 'Akash.': 1, 'am': 1, 'a': 1, 'C++': 1, 'software': 1, 'developer': 1, 'and': 1, 'have': 1, '4': 1, 'yrs': 1, 'of': 1, 'experience': 1})\n"
     ]
    }
   ],
   "source": [
    "from collections import Counter\n",
    "\n",
    "MyString = \"My Name is Akash. I am a C++ software developer and I have 4 yrs of experience\"\n",
    "\n",
    "c = Counter(MyString.split())\n",
    "\n",
    "print(c)"
   ]
  },
  {
   "cell_type": "code",
   "execution_count": 14,
   "metadata": {},
   "outputs": [
    {
     "name": "stdout",
     "output_type": "stream",
     "text": [
      "Counter({'I': 3, 'C++': 2, 'and': 2, 'experience': 2, 'in': 2, 'My': 1, 'Name': 1, 'is': 1, 'Akash.': 1, 'am': 1, 'a': 1, 'software': 1, 'developer': 1, 'have': 1, '4': 1, 'yrs': 1, 'of': 1, 'studied': 1, 'College': 1, 'has': 1, 'good': 1, 'it': 1})\n"
     ]
    }
   ],
   "source": [
    "MyString2 = \"I studied C++ in College and has good experience in it\"\n",
    "\n",
    "c.update(MyString2.split())\n",
    "print(c)"
   ]
  },
  {
   "cell_type": "code",
   "execution_count": 15,
   "metadata": {},
   "outputs": [],
   "source": [
    "def prepare_tokens(text):\n",
    "    s = text.split()\n",
    "    return s"
   ]
  },
  {
   "cell_type": "code",
   "execution_count": 16,
   "metadata": {},
   "outputs": [],
   "source": [
    "df['tokens'] = df['text'].apply(prepare_tokens)"
   ]
  },
  {
   "cell_type": "code",
   "execution_count": 17,
   "metadata": {},
   "outputs": [
    {
     "data": {
      "text/html": [
       "<div>\n",
       "<style scoped>\n",
       "    .dataframe tbody tr th:only-of-type {\n",
       "        vertical-align: middle;\n",
       "    }\n",
       "\n",
       "    .dataframe tbody tr th {\n",
       "        vertical-align: top;\n",
       "    }\n",
       "\n",
       "    .dataframe thead th {\n",
       "        text-align: right;\n",
       "    }\n",
       "</style>\n",
       "<table border=\"1\" class=\"dataframe\">\n",
       "  <thead>\n",
       "    <tr style=\"text-align: right;\">\n",
       "      <th></th>\n",
       "      <th>session</th>\n",
       "      <th>year</th>\n",
       "      <th>country</th>\n",
       "      <th>text</th>\n",
       "      <th>length</th>\n",
       "      <th>tokens</th>\n",
       "    </tr>\n",
       "  </thead>\n",
       "  <tbody>\n",
       "    <tr>\n",
       "      <th>0</th>\n",
       "      <td>44</td>\n",
       "      <td>1989</td>\n",
       "      <td>MDV</td>\n",
       "      <td>﻿It is indeed a pleasure for me and the member...</td>\n",
       "      <td>19023</td>\n",
       "      <td>[﻿It, is, indeed, a, pleasure, for, me, and, t...</td>\n",
       "    </tr>\n",
       "    <tr>\n",
       "      <th>1</th>\n",
       "      <td>44</td>\n",
       "      <td>1989</td>\n",
       "      <td>FIN</td>\n",
       "      <td>﻿\\nMay I begin by congratulating you. Sir, on ...</td>\n",
       "      <td>17396</td>\n",
       "      <td>[﻿, May, I, begin, by, congratulating, you., S...</td>\n",
       "    </tr>\n",
       "    <tr>\n",
       "      <th>2</th>\n",
       "      <td>44</td>\n",
       "      <td>1989</td>\n",
       "      <td>NER</td>\n",
       "      <td>﻿\\nMr. President, it is a particular pleasure ...</td>\n",
       "      <td>30780</td>\n",
       "      <td>[﻿, Mr., President,, it, is, a, particular, pl...</td>\n",
       "    </tr>\n",
       "    <tr>\n",
       "      <th>3</th>\n",
       "      <td>44</td>\n",
       "      <td>1989</td>\n",
       "      <td>URY</td>\n",
       "      <td>﻿\\nDuring the debate at the fortieth session o...</td>\n",
       "      <td>17249</td>\n",
       "      <td>[﻿, During, the, debate, at, the, fortieth, se...</td>\n",
       "    </tr>\n",
       "    <tr>\n",
       "      <th>4</th>\n",
       "      <td>44</td>\n",
       "      <td>1989</td>\n",
       "      <td>ZWE</td>\n",
       "      <td>﻿I should like at the outset to express my del...</td>\n",
       "      <td>27779</td>\n",
       "      <td>[﻿I, should, like, at, the, outset, to, expres...</td>\n",
       "    </tr>\n",
       "    <tr>\n",
       "      <th>...</th>\n",
       "      <td>...</td>\n",
       "      <td>...</td>\n",
       "      <td>...</td>\n",
       "      <td>...</td>\n",
       "      <td>...</td>\n",
       "      <td>...</td>\n",
       "    </tr>\n",
       "    <tr>\n",
       "      <th>7502</th>\n",
       "      <td>56</td>\n",
       "      <td>2001</td>\n",
       "      <td>KAZ</td>\n",
       "      <td>﻿This session\\nthat is taking place under extr...</td>\n",
       "      <td>9510</td>\n",
       "      <td>[﻿This, session, that, is, taking, place, unde...</td>\n",
       "    </tr>\n",
       "    <tr>\n",
       "      <th>7503</th>\n",
       "      <td>56</td>\n",
       "      <td>2001</td>\n",
       "      <td>LBR</td>\n",
       "      <td>﻿I am honoured to\\nparticipate in this histori...</td>\n",
       "      <td>15573</td>\n",
       "      <td>[﻿I, am, honoured, to, participate, in, this, ...</td>\n",
       "    </tr>\n",
       "    <tr>\n",
       "      <th>7504</th>\n",
       "      <td>56</td>\n",
       "      <td>2001</td>\n",
       "      <td>BDI</td>\n",
       "      <td>﻿It\\nis for me a signal honour to take the flo...</td>\n",
       "      <td>16767</td>\n",
       "      <td>[﻿It, is, for, me, a, signal, honour, to, take...</td>\n",
       "    </tr>\n",
       "    <tr>\n",
       "      <th>7505</th>\n",
       "      <td>56</td>\n",
       "      <td>2001</td>\n",
       "      <td>HUN</td>\n",
       "      <td>﻿First, may I congratulate Mr. Han Seung-soo o...</td>\n",
       "      <td>11593</td>\n",
       "      <td>[﻿First,, may, I, congratulate, Mr., Han, Seun...</td>\n",
       "    </tr>\n",
       "    <tr>\n",
       "      <th>7506</th>\n",
       "      <td>56</td>\n",
       "      <td>2001</td>\n",
       "      <td>KWT</td>\n",
       "      <td>﻿On behalf of the State of Kuwait, it\\ngives m...</td>\n",
       "      <td>15925</td>\n",
       "      <td>[﻿On, behalf, of, the, State, of, Kuwait,, it,...</td>\n",
       "    </tr>\n",
       "  </tbody>\n",
       "</table>\n",
       "<p>7507 rows × 6 columns</p>\n",
       "</div>"
      ],
      "text/plain": [
       "      session  year country  \\\n",
       "0          44  1989     MDV   \n",
       "1          44  1989     FIN   \n",
       "2          44  1989     NER   \n",
       "3          44  1989     URY   \n",
       "4          44  1989     ZWE   \n",
       "...       ...   ...     ...   \n",
       "7502       56  2001     KAZ   \n",
       "7503       56  2001     LBR   \n",
       "7504       56  2001     BDI   \n",
       "7505       56  2001     HUN   \n",
       "7506       56  2001     KWT   \n",
       "\n",
       "                                                   text  length  \\\n",
       "0     ﻿It is indeed a pleasure for me and the member...   19023   \n",
       "1     ﻿\\nMay I begin by congratulating you. Sir, on ...   17396   \n",
       "2     ﻿\\nMr. President, it is a particular pleasure ...   30780   \n",
       "3     ﻿\\nDuring the debate at the fortieth session o...   17249   \n",
       "4     ﻿I should like at the outset to express my del...   27779   \n",
       "...                                                 ...     ...   \n",
       "7502  ﻿This session\\nthat is taking place under extr...    9510   \n",
       "7503  ﻿I am honoured to\\nparticipate in this histori...   15573   \n",
       "7504  ﻿It\\nis for me a signal honour to take the flo...   16767   \n",
       "7505  ﻿First, may I congratulate Mr. Han Seung-soo o...   11593   \n",
       "7506  ﻿On behalf of the State of Kuwait, it\\ngives m...   15925   \n",
       "\n",
       "                                                 tokens  \n",
       "0     [﻿It, is, indeed, a, pleasure, for, me, and, t...  \n",
       "1     [﻿, May, I, begin, by, congratulating, you., S...  \n",
       "2     [﻿, Mr., President,, it, is, a, particular, pl...  \n",
       "3     [﻿, During, the, debate, at, the, fortieth, se...  \n",
       "4     [﻿I, should, like, at, the, outset, to, expres...  \n",
       "...                                                 ...  \n",
       "7502  [﻿This, session, that, is, taking, place, unde...  \n",
       "7503  [﻿I, am, honoured, to, participate, in, this, ...  \n",
       "7504  [﻿It, is, for, me, a, signal, honour, to, take...  \n",
       "7505  [﻿First,, may, I, congratulate, Mr., Han, Seun...  \n",
       "7506  [﻿On, behalf, of, the, State, of, Kuwait,, it,...  \n",
       "\n",
       "[7507 rows x 6 columns]"
      ]
     },
     "execution_count": 17,
     "metadata": {},
     "output_type": "execute_result"
    }
   ],
   "source": [
    "df"
   ]
  },
  {
   "cell_type": "code",
   "execution_count": 18,
   "metadata": {},
   "outputs": [],
   "source": [
    "sw = set(nt.corpus.stopwords.words('english'))\n",
    "\n",
    "def remove_sw(tokens):\n",
    "    return [t for t in tokens if t not in sw]"
   ]
  },
  {
   "cell_type": "code",
   "execution_count": 19,
   "metadata": {},
   "outputs": [],
   "source": [
    "df['text_sw_removal'] = df['tokens'].apply(remove_sw)"
   ]
  },
  {
   "cell_type": "code",
   "execution_count": 20,
   "metadata": {},
   "outputs": [
    {
     "data": {
      "text/html": [
       "<div>\n",
       "<style scoped>\n",
       "    .dataframe tbody tr th:only-of-type {\n",
       "        vertical-align: middle;\n",
       "    }\n",
       "\n",
       "    .dataframe tbody tr th {\n",
       "        vertical-align: top;\n",
       "    }\n",
       "\n",
       "    .dataframe thead th {\n",
       "        text-align: right;\n",
       "    }\n",
       "</style>\n",
       "<table border=\"1\" class=\"dataframe\">\n",
       "  <thead>\n",
       "    <tr style=\"text-align: right;\">\n",
       "      <th></th>\n",
       "      <th>session</th>\n",
       "      <th>year</th>\n",
       "      <th>country</th>\n",
       "      <th>text</th>\n",
       "      <th>length</th>\n",
       "      <th>tokens</th>\n",
       "      <th>text_sw_removal</th>\n",
       "    </tr>\n",
       "  </thead>\n",
       "  <tbody>\n",
       "    <tr>\n",
       "      <th>0</th>\n",
       "      <td>44</td>\n",
       "      <td>1989</td>\n",
       "      <td>MDV</td>\n",
       "      <td>﻿It is indeed a pleasure for me and the member...</td>\n",
       "      <td>19023</td>\n",
       "      <td>[﻿It, is, indeed, a, pleasure, for, me, and, t...</td>\n",
       "      <td>[﻿It, indeed, pleasure, members, delegation, e...</td>\n",
       "    </tr>\n",
       "    <tr>\n",
       "      <th>1</th>\n",
       "      <td>44</td>\n",
       "      <td>1989</td>\n",
       "      <td>FIN</td>\n",
       "      <td>﻿\\nMay I begin by congratulating you. Sir, on ...</td>\n",
       "      <td>17396</td>\n",
       "      <td>[﻿, May, I, begin, by, congratulating, you., S...</td>\n",
       "      <td>[﻿, May, I, begin, congratulating, you., Sir,,...</td>\n",
       "    </tr>\n",
       "    <tr>\n",
       "      <th>2</th>\n",
       "      <td>44</td>\n",
       "      <td>1989</td>\n",
       "      <td>NER</td>\n",
       "      <td>﻿\\nMr. President, it is a particular pleasure ...</td>\n",
       "      <td>30780</td>\n",
       "      <td>[﻿, Mr., President,, it, is, a, particular, pl...</td>\n",
       "      <td>[﻿, Mr., President,, particular, pleasure, me,...</td>\n",
       "    </tr>\n",
       "    <tr>\n",
       "      <th>3</th>\n",
       "      <td>44</td>\n",
       "      <td>1989</td>\n",
       "      <td>URY</td>\n",
       "      <td>﻿\\nDuring the debate at the fortieth session o...</td>\n",
       "      <td>17249</td>\n",
       "      <td>[﻿, During, the, debate, at, the, fortieth, se...</td>\n",
       "      <td>[﻿, During, debate, fortieth, session, General...</td>\n",
       "    </tr>\n",
       "    <tr>\n",
       "      <th>4</th>\n",
       "      <td>44</td>\n",
       "      <td>1989</td>\n",
       "      <td>ZWE</td>\n",
       "      <td>﻿I should like at the outset to express my del...</td>\n",
       "      <td>27779</td>\n",
       "      <td>[﻿I, should, like, at, the, outset, to, expres...</td>\n",
       "      <td>[﻿I, like, outset, express, delegation's, sati...</td>\n",
       "    </tr>\n",
       "    <tr>\n",
       "      <th>...</th>\n",
       "      <td>...</td>\n",
       "      <td>...</td>\n",
       "      <td>...</td>\n",
       "      <td>...</td>\n",
       "      <td>...</td>\n",
       "      <td>...</td>\n",
       "      <td>...</td>\n",
       "    </tr>\n",
       "    <tr>\n",
       "      <th>7502</th>\n",
       "      <td>56</td>\n",
       "      <td>2001</td>\n",
       "      <td>KAZ</td>\n",
       "      <td>﻿This session\\nthat is taking place under extr...</td>\n",
       "      <td>9510</td>\n",
       "      <td>[﻿This, session, that, is, taking, place, unde...</td>\n",
       "      <td>[﻿This, session, taking, place, extraordinary,...</td>\n",
       "    </tr>\n",
       "    <tr>\n",
       "      <th>7503</th>\n",
       "      <td>56</td>\n",
       "      <td>2001</td>\n",
       "      <td>LBR</td>\n",
       "      <td>﻿I am honoured to\\nparticipate in this histori...</td>\n",
       "      <td>15573</td>\n",
       "      <td>[﻿I, am, honoured, to, participate, in, this, ...</td>\n",
       "      <td>[﻿I, honoured, participate, historic, session,...</td>\n",
       "    </tr>\n",
       "    <tr>\n",
       "      <th>7504</th>\n",
       "      <td>56</td>\n",
       "      <td>2001</td>\n",
       "      <td>BDI</td>\n",
       "      <td>﻿It\\nis for me a signal honour to take the flo...</td>\n",
       "      <td>16767</td>\n",
       "      <td>[﻿It, is, for, me, a, signal, honour, to, take...</td>\n",
       "      <td>[﻿It, signal, honour, take, floor, today, Asse...</td>\n",
       "    </tr>\n",
       "    <tr>\n",
       "      <th>7505</th>\n",
       "      <td>56</td>\n",
       "      <td>2001</td>\n",
       "      <td>HUN</td>\n",
       "      <td>﻿First, may I congratulate Mr. Han Seung-soo o...</td>\n",
       "      <td>11593</td>\n",
       "      <td>[﻿First,, may, I, congratulate, Mr., Han, Seun...</td>\n",
       "      <td>[﻿First,, may, I, congratulate, Mr., Han, Seun...</td>\n",
       "    </tr>\n",
       "    <tr>\n",
       "      <th>7506</th>\n",
       "      <td>56</td>\n",
       "      <td>2001</td>\n",
       "      <td>KWT</td>\n",
       "      <td>﻿On behalf of the State of Kuwait, it\\ngives m...</td>\n",
       "      <td>15925</td>\n",
       "      <td>[﻿On, behalf, of, the, State, of, Kuwait,, it,...</td>\n",
       "      <td>[﻿On, behalf, State, Kuwait,, gives, pleasure,...</td>\n",
       "    </tr>\n",
       "  </tbody>\n",
       "</table>\n",
       "<p>7507 rows × 7 columns</p>\n",
       "</div>"
      ],
      "text/plain": [
       "      session  year country  \\\n",
       "0          44  1989     MDV   \n",
       "1          44  1989     FIN   \n",
       "2          44  1989     NER   \n",
       "3          44  1989     URY   \n",
       "4          44  1989     ZWE   \n",
       "...       ...   ...     ...   \n",
       "7502       56  2001     KAZ   \n",
       "7503       56  2001     LBR   \n",
       "7504       56  2001     BDI   \n",
       "7505       56  2001     HUN   \n",
       "7506       56  2001     KWT   \n",
       "\n",
       "                                                   text  length  \\\n",
       "0     ﻿It is indeed a pleasure for me and the member...   19023   \n",
       "1     ﻿\\nMay I begin by congratulating you. Sir, on ...   17396   \n",
       "2     ﻿\\nMr. President, it is a particular pleasure ...   30780   \n",
       "3     ﻿\\nDuring the debate at the fortieth session o...   17249   \n",
       "4     ﻿I should like at the outset to express my del...   27779   \n",
       "...                                                 ...     ...   \n",
       "7502  ﻿This session\\nthat is taking place under extr...    9510   \n",
       "7503  ﻿I am honoured to\\nparticipate in this histori...   15573   \n",
       "7504  ﻿It\\nis for me a signal honour to take the flo...   16767   \n",
       "7505  ﻿First, may I congratulate Mr. Han Seung-soo o...   11593   \n",
       "7506  ﻿On behalf of the State of Kuwait, it\\ngives m...   15925   \n",
       "\n",
       "                                                 tokens  \\\n",
       "0     [﻿It, is, indeed, a, pleasure, for, me, and, t...   \n",
       "1     [﻿, May, I, begin, by, congratulating, you., S...   \n",
       "2     [﻿, Mr., President,, it, is, a, particular, pl...   \n",
       "3     [﻿, During, the, debate, at, the, fortieth, se...   \n",
       "4     [﻿I, should, like, at, the, outset, to, expres...   \n",
       "...                                                 ...   \n",
       "7502  [﻿This, session, that, is, taking, place, unde...   \n",
       "7503  [﻿I, am, honoured, to, participate, in, this, ...   \n",
       "7504  [﻿It, is, for, me, a, signal, honour, to, take...   \n",
       "7505  [﻿First,, may, I, congratulate, Mr., Han, Seun...   \n",
       "7506  [﻿On, behalf, of, the, State, of, Kuwait,, it,...   \n",
       "\n",
       "                                        text_sw_removal  \n",
       "0     [﻿It, indeed, pleasure, members, delegation, e...  \n",
       "1     [﻿, May, I, begin, congratulating, you., Sir,,...  \n",
       "2     [﻿, Mr., President,, particular, pleasure, me,...  \n",
       "3     [﻿, During, debate, fortieth, session, General...  \n",
       "4     [﻿I, like, outset, express, delegation's, sati...  \n",
       "...                                                 ...  \n",
       "7502  [﻿This, session, taking, place, extraordinary,...  \n",
       "7503  [﻿I, honoured, participate, historic, session,...  \n",
       "7504  [﻿It, signal, honour, take, floor, today, Asse...  \n",
       "7505  [﻿First,, may, I, congratulate, Mr., Han, Seun...  \n",
       "7506  [﻿On, behalf, State, Kuwait,, gives, pleasure,...  \n",
       "\n",
       "[7507 rows x 7 columns]"
      ]
     },
     "execution_count": 20,
     "metadata": {},
     "output_type": "execute_result"
    }
   ],
   "source": [
    "df"
   ]
  },
  {
   "cell_type": "code",
   "execution_count": 21,
   "metadata": {},
   "outputs": [
    {
     "data": {
      "text/plain": [
       "0       None\n",
       "1       None\n",
       "2       None\n",
       "3       None\n",
       "4       None\n",
       "        ... \n",
       "7502    None\n",
       "7503    None\n",
       "7504    None\n",
       "7505    None\n",
       "7506    None\n",
       "Name: text_sw_removal, Length: 7507, dtype: object"
      ]
     },
     "execution_count": 21,
     "metadata": {},
     "output_type": "execute_result"
    }
   ],
   "source": [
    "counter = Counter()\n",
    "df['text_sw_removal'].map(counter.update)"
   ]
  },
  {
   "cell_type": "code",
   "execution_count": 22,
   "metadata": {},
   "outputs": [],
   "source": [
    "df1 = counter.most_common(10)   # The most common words used in the speeches"
   ]
  },
  {
   "cell_type": "code",
   "execution_count": 23,
   "metadata": {},
   "outputs": [],
   "source": [
    "df2 = pd.DataFrame(df1,columns=['Words','Freq'])"
   ]
  },
  {
   "cell_type": "code",
   "execution_count": 24,
   "metadata": {},
   "outputs": [
    {
     "data": {
      "image/png": "[encoded data removed]",
      "text/plain": [
       "<Figure size 432x288 with 1 Axes>"
      ]
     },
     "metadata": {
      "needs_background": "light"
     },
     "output_type": "display_data"
    }
   ],
   "source": [
    "ax = df2.plot(kind='barh',x='Words',y='Freq')\n",
    "ax.invert_yaxis()"
   ]
  },
  {
   "cell_type": "code",
   "execution_count": 25,
   "metadata": {},
   "outputs": [
    {
     "data": {
      "text/html": [
       "<div>\n",
       "<style scoped>\n",
       "    .dataframe tbody tr th:only-of-type {\n",
       "        vertical-align: middle;\n",
       "    }\n",
       "\n",
       "    .dataframe tbody tr th {\n",
       "        vertical-align: top;\n",
       "    }\n",
       "\n",
       "    .dataframe thead th {\n",
       "        text-align: right;\n",
       "    }\n",
       "</style>\n",
       "<table border=\"1\" class=\"dataframe\">\n",
       "  <thead>\n",
       "    <tr style=\"text-align: right;\">\n",
       "      <th></th>\n",
       "      <th>session</th>\n",
       "      <th>year</th>\n",
       "      <th>country</th>\n",
       "      <th>text</th>\n",
       "      <th>length</th>\n",
       "      <th>tokens</th>\n",
       "      <th>text_sw_removal</th>\n",
       "    </tr>\n",
       "  </thead>\n",
       "  <tbody>\n",
       "    <tr>\n",
       "      <th>0</th>\n",
       "      <td>44</td>\n",
       "      <td>1989</td>\n",
       "      <td>MDV</td>\n",
       "      <td>﻿It is indeed a pleasure for me and the member...</td>\n",
       "      <td>19023</td>\n",
       "      <td>[﻿It, is, indeed, a, pleasure, for, me, and, t...</td>\n",
       "      <td>[﻿It, indeed, pleasure, members, delegation, e...</td>\n",
       "    </tr>\n",
       "    <tr>\n",
       "      <th>1</th>\n",
       "      <td>44</td>\n",
       "      <td>1989</td>\n",
       "      <td>FIN</td>\n",
       "      <td>﻿\\nMay I begin by congratulating you. Sir, on ...</td>\n",
       "      <td>17396</td>\n",
       "      <td>[﻿, May, I, begin, by, congratulating, you., S...</td>\n",
       "      <td>[﻿, May, I, begin, congratulating, you., Sir,,...</td>\n",
       "    </tr>\n",
       "    <tr>\n",
       "      <th>2</th>\n",
       "      <td>44</td>\n",
       "      <td>1989</td>\n",
       "      <td>NER</td>\n",
       "      <td>﻿\\nMr. President, it is a particular pleasure ...</td>\n",
       "      <td>30780</td>\n",
       "      <td>[﻿, Mr., President,, it, is, a, particular, pl...</td>\n",
       "      <td>[﻿, Mr., President,, particular, pleasure, me,...</td>\n",
       "    </tr>\n",
       "    <tr>\n",
       "      <th>3</th>\n",
       "      <td>44</td>\n",
       "      <td>1989</td>\n",
       "      <td>URY</td>\n",
       "      <td>﻿\\nDuring the debate at the fortieth session o...</td>\n",
       "      <td>17249</td>\n",
       "      <td>[﻿, During, the, debate, at, the, fortieth, se...</td>\n",
       "      <td>[﻿, During, debate, fortieth, session, General...</td>\n",
       "    </tr>\n",
       "    <tr>\n",
       "      <th>4</th>\n",
       "      <td>44</td>\n",
       "      <td>1989</td>\n",
       "      <td>ZWE</td>\n",
       "      <td>﻿I should like at the outset to express my del...</td>\n",
       "      <td>27779</td>\n",
       "      <td>[﻿I, should, like, at, the, outset, to, expres...</td>\n",
       "      <td>[﻿I, like, outset, express, delegation's, sati...</td>\n",
       "    </tr>\n",
       "    <tr>\n",
       "      <th>...</th>\n",
       "      <td>...</td>\n",
       "      <td>...</td>\n",
       "      <td>...</td>\n",
       "      <td>...</td>\n",
       "      <td>...</td>\n",
       "      <td>...</td>\n",
       "      <td>...</td>\n",
       "    </tr>\n",
       "    <tr>\n",
       "      <th>7502</th>\n",
       "      <td>56</td>\n",
       "      <td>2001</td>\n",
       "      <td>KAZ</td>\n",
       "      <td>﻿This session\\nthat is taking place under extr...</td>\n",
       "      <td>9510</td>\n",
       "      <td>[﻿This, session, that, is, taking, place, unde...</td>\n",
       "      <td>[﻿This, session, taking, place, extraordinary,...</td>\n",
       "    </tr>\n",
       "    <tr>\n",
       "      <th>7503</th>\n",
       "      <td>56</td>\n",
       "      <td>2001</td>\n",
       "      <td>LBR</td>\n",
       "      <td>﻿I am honoured to\\nparticipate in this histori...</td>\n",
       "      <td>15573</td>\n",
       "      <td>[﻿I, am, honoured, to, participate, in, this, ...</td>\n",
       "      <td>[﻿I, honoured, participate, historic, session,...</td>\n",
       "    </tr>\n",
       "    <tr>\n",
       "      <th>7504</th>\n",
       "      <td>56</td>\n",
       "      <td>2001</td>\n",
       "      <td>BDI</td>\n",
       "      <td>﻿It\\nis for me a signal honour to take the flo...</td>\n",
       "      <td>16767</td>\n",
       "      <td>[﻿It, is, for, me, a, signal, honour, to, take...</td>\n",
       "      <td>[﻿It, signal, honour, take, floor, today, Asse...</td>\n",
       "    </tr>\n",
       "    <tr>\n",
       "      <th>7505</th>\n",
       "      <td>56</td>\n",
       "      <td>2001</td>\n",
       "      <td>HUN</td>\n",
       "      <td>﻿First, may I congratulate Mr. Han Seung-soo o...</td>\n",
       "      <td>11593</td>\n",
       "      <td>[﻿First,, may, I, congratulate, Mr., Han, Seun...</td>\n",
       "      <td>[﻿First,, may, I, congratulate, Mr., Han, Seun...</td>\n",
       "    </tr>\n",
       "    <tr>\n",
       "      <th>7506</th>\n",
       "      <td>56</td>\n",
       "      <td>2001</td>\n",
       "      <td>KWT</td>\n",
       "      <td>﻿On behalf of the State of Kuwait, it\\ngives m...</td>\n",
       "      <td>15925</td>\n",
       "      <td>[﻿On, behalf, of, the, State, of, Kuwait,, it,...</td>\n",
       "      <td>[﻿On, behalf, State, Kuwait,, gives, pleasure,...</td>\n",
       "    </tr>\n",
       "  </tbody>\n",
       "</table>\n",
       "<p>7507 rows × 7 columns</p>\n",
       "</div>"
      ],
      "text/plain": [
       "      session  year country  \\\n",
       "0          44  1989     MDV   \n",
       "1          44  1989     FIN   \n",
       "2          44  1989     NER   \n",
       "3          44  1989     URY   \n",
       "4          44  1989     ZWE   \n",
       "...       ...   ...     ...   \n",
       "7502       56  2001     KAZ   \n",
       "7503       56  2001     LBR   \n",
       "7504       56  2001     BDI   \n",
       "7505       56  2001     HUN   \n",
       "7506       56  2001     KWT   \n",
       "\n",
       "                                                   text  length  \\\n",
       "0     ﻿It is indeed a pleasure for me and the member...   19023   \n",
       "1     ﻿\\nMay I begin by congratulating you. Sir, on ...   17396   \n",
       "2     ﻿\\nMr. President, it is a particular pleasure ...   30780   \n",
       "3     ﻿\\nDuring the debate at the fortieth session o...   17249   \n",
       "4     ﻿I should like at the outset to express my del...   27779   \n",
       "...                                                 ...     ...   \n",
       "7502  ﻿This session\\nthat is taking place under extr...    9510   \n",
       "7503  ﻿I am honoured to\\nparticipate in this histori...   15573   \n",
       "7504  ﻿It\\nis for me a signal honour to take the flo...   16767   \n",
       "7505  ﻿First, may I congratulate Mr. Han Seung-soo o...   11593   \n",
       "7506  ﻿On behalf of the State of Kuwait, it\\ngives m...   15925   \n",
       "\n",
       "                                                 tokens  \\\n",
       "0     [﻿It, is, indeed, a, pleasure, for, me, and, t...   \n",
       "1     [﻿, May, I, begin, by, congratulating, you., S...   \n",
       "2     [﻿, Mr., President,, it, is, a, particular, pl...   \n",
       "3     [﻿, During, the, debate, at, the, fortieth, se...   \n",
       "4     [﻿I, should, like, at, the, outset, to, expres...   \n",
       "...                                                 ...   \n",
       "7502  [﻿This, session, that, is, taking, place, unde...   \n",
       "7503  [﻿I, am, honoured, to, participate, in, this, ...   \n",
       "7504  [﻿It, is, for, me, a, signal, honour, to, take...   \n",
       "7505  [﻿First,, may, I, congratulate, Mr., Han, Seun...   \n",
       "7506  [﻿On, behalf, of, the, State, of, Kuwait,, it,...   \n",
       "\n",
       "                                        text_sw_removal  \n",
       "0     [﻿It, indeed, pleasure, members, delegation, e...  \n",
       "1     [﻿, May, I, begin, congratulating, you., Sir,,...  \n",
       "2     [﻿, Mr., President,, particular, pleasure, me,...  \n",
       "3     [﻿, During, debate, fortieth, session, General...  \n",
       "4     [﻿I, like, outset, express, delegation's, sati...  \n",
       "...                                                 ...  \n",
       "7502  [﻿This, session, taking, place, extraordinary,...  \n",
       "7503  [﻿I, honoured, participate, historic, session,...  \n",
       "7504  [﻿It, signal, honour, take, floor, today, Asse...  \n",
       "7505  [﻿First,, may, I, congratulate, Mr., Han, Seun...  \n",
       "7506  [﻿On, behalf, State, Kuwait,, gives, pleasure,...  \n",
       "\n",
       "[7507 rows x 7 columns]"
      ]
     },
     "execution_count": 25,
     "metadata": {},
     "output_type": "execute_result"
    }
   ],
   "source": [
    "df"
   ]
  },
  {
   "cell_type": "code",
   "execution_count": 26,
   "metadata": {},
   "outputs": [],
   "source": [
    "from wordcloud import WordCloud\n",
    "import matplotlib.pyplot as plt\n"
   ]
  },
  {
   "cell_type": "code",
   "execution_count": 27,
   "metadata": {},
   "outputs": [],
   "source": [
    "text = df.query(\"year=='2015' and country=='USA'\")['text'].values[0]\n",
    "text1 = df.query(\"year=='2015' and country=='IND'\")['text'].values[0]"
   ]
  },
  {
   "cell_type": "code",
   "execution_count": 28,
   "metadata": {
    "scrolled": true
   },
   "outputs": [
    {
     "data": {
      "text/plain": [
       "(-0.5, 399.5, 199.5, -0.5)"
      ]
     },
     "execution_count": 28,
     "metadata": {},
     "output_type": "execute_result"
    },
    {
     "data": {
      "image/png": "[encoded data removed]",
      "text/plain": [
       "<Figure size 432x288 with 1 Axes>"
      ]
     },
     "metadata": {
      "needs_background": "light"
     },
     "output_type": "display_data"
    }
   ],
   "source": [
    "wc = WordCloud(max_words=100,stopwords=sw)\n",
    "wc1 = WordCloud(max_words=100,stopwords=sw)\n",
    "wc.generate(text)\n",
    "wc1.generate(text1)\n",
    "plt.imshow(wc,interpolation='bilinear')\n",
    "plt.axis('off')\n",
    "plt.imshow(wc1,interpolation='bilinear')\n",
    "plt.axis('off')"
   ]
  },
  {
   "cell_type": "code",
   "execution_count": 29,
   "metadata": {},
   "outputs": [],
   "source": [
    "idf_df=pd.DataFrame.from_dict(counter,orient='index', columns=['df'])"
   ]
  },
  {
   "cell_type": "code",
   "execution_count": 30,
   "metadata": {},
   "outputs": [
    {
     "data": {
      "text/plain": [
       "(167092, 1)"
      ]
     },
     "execution_count": 30,
     "metadata": {},
     "output_type": "execute_result"
    }
   ],
   "source": [
    "idf_df.shape"
   ]
  },
  {
   "cell_type": "code",
   "execution_count": 31,
   "metadata": {},
   "outputs": [],
   "source": [
    "idf_df = idf_df.query('df >= 2')"
   ]
  },
  {
   "cell_type": "code",
   "execution_count": 32,
   "metadata": {},
   "outputs": [
    {
     "data": {
      "text/plain": [
       "(86096, 1)"
      ]
     },
     "execution_count": 32,
     "metadata": {},
     "output_type": "execute_result"
    }
   ],
   "source": [
    "idf_df.shape"
   ]
  },
  {
   "cell_type": "code",
   "execution_count": 33,
   "metadata": {},
   "outputs": [],
   "source": [
    "import numpy as np\n",
    "idf_df['idf']= np.log(len(df)/idf_df['df'])+0.1"
   ]
  },
  {
   "cell_type": "code",
   "execution_count": 34,
   "metadata": {},
   "outputs": [
    {
     "data": {
      "text/html": [
       "<div>\n",
       "<style scoped>\n",
       "    .dataframe tbody tr th:only-of-type {\n",
       "        vertical-align: middle;\n",
       "    }\n",
       "\n",
       "    .dataframe tbody tr th {\n",
       "        vertical-align: top;\n",
       "    }\n",
       "\n",
       "    .dataframe thead th {\n",
       "        text-align: right;\n",
       "    }\n",
       "</style>\n",
       "<table border=\"1\" class=\"dataframe\">\n",
       "  <thead>\n",
       "    <tr style=\"text-align: right;\">\n",
       "      <th></th>\n",
       "      <th>df</th>\n",
       "      <th>idf</th>\n",
       "    </tr>\n",
       "  </thead>\n",
       "  <tbody>\n",
       "    <tr>\n",
       "      <th>﻿It</th>\n",
       "      <td>237</td>\n",
       "      <td>3.555531</td>\n",
       "    </tr>\n",
       "    <tr>\n",
       "      <th>indeed</th>\n",
       "      <td>3404</td>\n",
       "      <td>0.890885</td>\n",
       "    </tr>\n",
       "    <tr>\n",
       "      <th>pleasure</th>\n",
       "      <td>2041</td>\n",
       "      <td>1.402396</td>\n",
       "    </tr>\n",
       "    <tr>\n",
       "      <th>members</th>\n",
       "      <td>7262</td>\n",
       "      <td>0.133181</td>\n",
       "    </tr>\n",
       "    <tr>\n",
       "      <th>delegation</th>\n",
       "      <td>11362</td>\n",
       "      <td>-0.314439</td>\n",
       "    </tr>\n",
       "    <tr>\n",
       "      <th>...</th>\n",
       "      <td>...</td>\n",
       "      <td>...</td>\n",
       "    </tr>\n",
       "    <tr>\n",
       "      <th>zero”</th>\n",
       "      <td>2</td>\n",
       "      <td>8.330444</td>\n",
       "    </tr>\n",
       "    <tr>\n",
       "      <th>Lesson</th>\n",
       "      <td>3</td>\n",
       "      <td>7.924979</td>\n",
       "    </tr>\n",
       "    <tr>\n",
       "      <th>Bollier,</th>\n",
       "      <td>2</td>\n",
       "      <td>8.330444</td>\n",
       "    </tr>\n",
       "    <tr>\n",
       "      <th>Megrahi,</th>\n",
       "      <td>2</td>\n",
       "      <td>8.330444</td>\n",
       "    </tr>\n",
       "    <tr>\n",
       "      <th>Megrahi</th>\n",
       "      <td>2</td>\n",
       "      <td>8.330444</td>\n",
       "    </tr>\n",
       "  </tbody>\n",
       "</table>\n",
       "<p>86096 rows × 2 columns</p>\n",
       "</div>"
      ],
      "text/plain": [
       "               df       idf\n",
       "﻿It           237  3.555531\n",
       "indeed       3404  0.890885\n",
       "pleasure     2041  1.402396\n",
       "members      7262  0.133181\n",
       "delegation  11362 -0.314439\n",
       "...           ...       ...\n",
       "zero”           2  8.330444\n",
       "Lesson          3  7.924979\n",
       "Bollier,        2  8.330444\n",
       "Megrahi,        2  8.330444\n",
       "Megrahi         2  8.330444\n",
       "\n",
       "[86096 rows x 2 columns]"
      ]
     },
     "execution_count": 34,
     "metadata": {},
     "output_type": "execute_result"
    }
   ],
   "source": [
    "idf_df"
   ]
  },
  {
   "cell_type": "code",
   "execution_count": 35,
   "metadata": {},
   "outputs": [],
   "source": [
    "df3 = pd.DataFrame.from_dict(counter, orient='index',columns=['Freq'])"
   ]
  },
  {
   "cell_type": "code",
   "execution_count": 36,
   "metadata": {},
   "outputs": [
    {
     "data": {
      "text/html": [
       "<div>\n",
       "<style scoped>\n",
       "    .dataframe tbody tr th:only-of-type {\n",
       "        vertical-align: middle;\n",
       "    }\n",
       "\n",
       "    .dataframe tbody tr th {\n",
       "        vertical-align: top;\n",
       "    }\n",
       "\n",
       "    .dataframe thead th {\n",
       "        text-align: right;\n",
       "    }\n",
       "</style>\n",
       "<table border=\"1\" class=\"dataframe\">\n",
       "  <thead>\n",
       "    <tr style=\"text-align: right;\">\n",
       "      <th></th>\n",
       "      <th>Freq</th>\n",
       "    </tr>\n",
       "  </thead>\n",
       "  <tbody>\n",
       "    <tr>\n",
       "      <th>﻿It</th>\n",
       "      <td>237</td>\n",
       "    </tr>\n",
       "    <tr>\n",
       "      <th>indeed</th>\n",
       "      <td>3404</td>\n",
       "    </tr>\n",
       "    <tr>\n",
       "      <th>pleasure</th>\n",
       "      <td>2041</td>\n",
       "    </tr>\n",
       "    <tr>\n",
       "      <th>members</th>\n",
       "      <td>7262</td>\n",
       "    </tr>\n",
       "    <tr>\n",
       "      <th>delegation</th>\n",
       "      <td>11362</td>\n",
       "    </tr>\n",
       "    <tr>\n",
       "      <th>...</th>\n",
       "      <td>...</td>\n",
       "    </tr>\n",
       "    <tr>\n",
       "      <th>strategic:</th>\n",
       "      <td>1</td>\n",
       "    </tr>\n",
       "    <tr>\n",
       "      <th>anthrax-related</th>\n",
       "      <td>1</td>\n",
       "    </tr>\n",
       "    <tr>\n",
       "      <th>preaching”</th>\n",
       "      <td>1</td>\n",
       "    </tr>\n",
       "    <tr>\n",
       "      <th>XVI:125)</th>\n",
       "      <td>1</td>\n",
       "    </tr>\n",
       "    <tr>\n",
       "      <th>stone-throwing</th>\n",
       "      <td>1</td>\n",
       "    </tr>\n",
       "  </tbody>\n",
       "</table>\n",
       "<p>167092 rows × 1 columns</p>\n",
       "</div>"
      ],
      "text/plain": [
       "                  Freq\n",
       "﻿It                237\n",
       "indeed            3404\n",
       "pleasure          2041\n",
       "members           7262\n",
       "delegation       11362\n",
       "...                ...\n",
       "strategic:           1\n",
       "anthrax-related      1\n",
       "preaching”           1\n",
       "XVI:125)             1\n",
       "stone-throwing       1\n",
       "\n",
       "[167092 rows x 1 columns]"
      ]
     },
     "execution_count": 36,
     "metadata": {},
     "output_type": "execute_result"
    }
   ],
   "source": [
    "df3"
   ]
  },
  {
   "cell_type": "code",
   "execution_count": 37,
   "metadata": {},
   "outputs": [],
   "source": [
    "df3['tfidf'] = df3['Freq'] * idf_df['idf']"
   ]
  },
  {
   "cell_type": "code",
   "execution_count": 38,
   "metadata": {},
   "outputs": [
    {
     "data": {
      "text/html": [
       "<div>\n",
       "<style scoped>\n",
       "    .dataframe tbody tr th:only-of-type {\n",
       "        vertical-align: middle;\n",
       "    }\n",
       "\n",
       "    .dataframe tbody tr th {\n",
       "        vertical-align: top;\n",
       "    }\n",
       "\n",
       "    .dataframe thead th {\n",
       "        text-align: right;\n",
       "    }\n",
       "</style>\n",
       "<table border=\"1\" class=\"dataframe\">\n",
       "  <thead>\n",
       "    <tr style=\"text-align: right;\">\n",
       "      <th></th>\n",
       "      <th>Freq</th>\n",
       "      <th>tfidf</th>\n",
       "    </tr>\n",
       "  </thead>\n",
       "  <tbody>\n",
       "    <tr>\n",
       "      <th>﻿It</th>\n",
       "      <td>237</td>\n",
       "      <td>842.660860</td>\n",
       "    </tr>\n",
       "    <tr>\n",
       "      <th>indeed</th>\n",
       "      <td>3404</td>\n",
       "      <td>3032.571546</td>\n",
       "    </tr>\n",
       "    <tr>\n",
       "      <th>pleasure</th>\n",
       "      <td>2041</td>\n",
       "      <td>2862.290307</td>\n",
       "    </tr>\n",
       "    <tr>\n",
       "      <th>members</th>\n",
       "      <td>7262</td>\n",
       "      <td>967.157848</td>\n",
       "    </tr>\n",
       "    <tr>\n",
       "      <th>delegation</th>\n",
       "      <td>11362</td>\n",
       "      <td>-3572.650641</td>\n",
       "    </tr>\n",
       "    <tr>\n",
       "      <th>...</th>\n",
       "      <td>...</td>\n",
       "      <td>...</td>\n",
       "    </tr>\n",
       "    <tr>\n",
       "      <th>strategic:</th>\n",
       "      <td>1</td>\n",
       "      <td>NaN</td>\n",
       "    </tr>\n",
       "    <tr>\n",
       "      <th>anthrax-related</th>\n",
       "      <td>1</td>\n",
       "      <td>NaN</td>\n",
       "    </tr>\n",
       "    <tr>\n",
       "      <th>preaching”</th>\n",
       "      <td>1</td>\n",
       "      <td>NaN</td>\n",
       "    </tr>\n",
       "    <tr>\n",
       "      <th>XVI:125)</th>\n",
       "      <td>1</td>\n",
       "      <td>NaN</td>\n",
       "    </tr>\n",
       "    <tr>\n",
       "      <th>stone-throwing</th>\n",
       "      <td>1</td>\n",
       "      <td>NaN</td>\n",
       "    </tr>\n",
       "  </tbody>\n",
       "</table>\n",
       "<p>167092 rows × 2 columns</p>\n",
       "</div>"
      ],
      "text/plain": [
       "                  Freq        tfidf\n",
       "﻿It                237   842.660860\n",
       "indeed            3404  3032.571546\n",
       "pleasure          2041  2862.290307\n",
       "members           7262   967.157848\n",
       "delegation       11362 -3572.650641\n",
       "...                ...          ...\n",
       "strategic:           1          NaN\n",
       "anthrax-related      1          NaN\n",
       "preaching”           1          NaN\n",
       "XVI:125)             1          NaN\n",
       "stone-throwing       1          NaN\n",
       "\n",
       "[167092 rows x 2 columns]"
      ]
     },
     "execution_count": 38,
     "metadata": {},
     "output_type": "execute_result"
    }
   ],
   "source": [
    "df3"
   ]
  },
  {
   "cell_type": "markdown",
   "metadata": {},
   "source": [
    "# KEYWORD IN CONTEXT OR KWIC"
   ]
  },
  {
   "cell_type": "code",
   "execution_count": 54,
   "metadata": {},
   "outputs": [],
   "source": [
    "from textacy.extract.kwic import keyword_in_context"
   ]
  },
  {
   "cell_type": "code",
   "execution_count": 57,
   "metadata": {},
   "outputs": [],
   "source": [
    "keyword = 'climate'\n",
    "l.extend(keyword_in_context(text, keyword, ignore_case=True, window_width=35))"
   ]
  },
  {
   "cell_type": "code",
   "execution_count": 58,
   "metadata": {},
   "outputs": [
    {
     "data": {
      "text/plain": [
       "[(' to the ravages of an ever-warming ',\n",
       "  'climate',\n",
       "  '. The same ingenuity that produced '),\n",
       " (' country can escape the ravages of ',\n",
       "  'climate',\n",
       "  ' change. And there is no stronger s')]"
      ]
     },
     "execution_count": 58,
     "metadata": {},
     "output_type": "execute_result"
    }
   ],
   "source": [
    "l"
   ]
  },
  {
   "cell_type": "code",
   "execution_count": 61,
   "metadata": {},
   "outputs": [
    {
     "ename": "SyntaxError",
     "evalue": "invalid syntax (<ipython-input-61-b6e5fb495e72>, line 2)",
     "output_type": "error",
     "traceback": [
      "\u001b[1;36m  File \u001b[1;32m\"<ipython-input-61-b6e5fb495e72>\"\u001b[1;36m, line \u001b[1;32m2\u001b[0m\n\u001b[1;33m    return [sep.join(ngram) for ngram in zip[tokens[i:] for i in range(n)])]\u001b[0m\n\u001b[1;37m                                                        ^\u001b[0m\n\u001b[1;31mSyntaxError\u001b[0m\u001b[1;31m:\u001b[0m invalid syntax\n"
     ]
    }
   ],
   "source": [
    "def ngrams(tokens, n = 2, sep=' '):\n",
    "    return [sep.join(ngram) for ngram "
   ]
  },
  {
   "cell_type": "code",
   "execution_count": null,
   "metadata": {},
   "outputs": [],
   "source": []
  }
 ],
 "metadata": {
  "kernelspec": {
   "display_name": "Python 3",
   "language": "python",
   "name": "python3"
  },
  "language_info": {
   "codemirror_mode": {
    "name": "ipython",
    "version": 3
   },
   "file_extension": ".py",
   "mimetype": "text/x-python",
   "name": "python",
   "nbconvert_exporter": "python",
   "pygments_lexer": "ipython3",
   "version": "3.8.3"
  }
 },
 "nbformat": 4,
 "nbformat_minor": 4
}
